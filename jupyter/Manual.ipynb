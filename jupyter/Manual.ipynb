{
 "cells": [
  {
   "cell_type": "markdown",
   "id": "7d051d09-c462-4a56-9af8-d88f06041ca1",
   "metadata": {},
   "source": [
    "# Manual Voltage Glitch"
   ]
  },
  {
   "cell_type": "code",
   "execution_count": 1,
   "id": "52538022-e3e6-4216-bda8-27cfa2c6601a",
   "metadata": {},
   "outputs": [],
   "source": [
    "SCOPETYPE = 'OPENADC'\n",
    "PLATFORM = 'CWLITEARM'\n",
    "SS_VER = 'SS_VER_2_1'"
   ]
  },
  {
   "cell_type": "code",
   "execution_count": 2,
   "id": "86622518-ba53-4dbe-a513-6be3cbf2edd1",
   "metadata": {},
   "outputs": [
    {
     "name": "stdout",
     "output_type": "stream",
     "text": [
      "INFO: Found ChipWhisperer😍\n",
      "scope.gain.mode                          changed from low                       to high                     \n",
      "scope.gain.gain                          changed from 0                         to 30                       \n",
      "scope.gain.db                            changed from 5.5                       to 24.8359375               \n",
      "scope.adc.basic_mode                     changed from low                       to rising_edge              \n",
      "scope.adc.samples                        changed from 24400                     to 5000                     \n",
      "scope.adc.trig_count                     changed from 11758257                  to 33213856                 \n",
      "scope.clock.adc_src                      changed from clkgen_x1                 to clkgen_x4                \n",
      "scope.clock.adc_freq                     changed from 0                         to 153398666                \n",
      "scope.clock.adc_rate                     changed from 0.0                       to 153398666.0              \n",
      "scope.clock.clkgen_div                   changed from 1                         to 26                       \n",
      "scope.clock.clkgen_freq                  changed from 192000000.0               to 7384615.384615385        \n",
      "scope.io.tio1                            changed from serial_tx                 to serial_rx                \n",
      "scope.io.tio2                            changed from serial_rx                 to serial_tx                \n",
      "scope.io.hs2                             changed from None                      to clkgen                   \n",
      "scope.io.cdc_settings                    changed from bytearray(b'\\x01\\x00\\x00\\x00') to bytearray(b'\\x00\\x00\\x00\\x00')\n"
     ]
    }
   ],
   "source": [
    "%run \"../Setup_Scripts/Setup_Generic.ipynb\""
   ]
  },
  {
   "cell_type": "code",
   "execution_count": 3,
   "id": "10a4d052-7a99-457a-b2d3-628292aadf32",
   "metadata": {},
   "outputs": [],
   "source": [
    "scope.clock.clkgen_freq = 100E6 # 100 MHz\n",
    "scope.glitch.clk_src = \"clkgen\""
   ]
  },
  {
   "cell_type": "code",
   "execution_count": 4,
   "id": "e6f1248e-d222-4191-a3d2-81d749c5048e",
   "metadata": {},
   "outputs": [
    {
     "data": {
      "text/plain": [
       "tio1         = serial_rx\n",
       "tio2         = serial_tx\n",
       "tio3         = high_z\n",
       "tio4         = high_z\n",
       "pdid         = high_z\n",
       "pdic         = high_z\n",
       "nrst         = high_z\n",
       "glitch_hp    = True\n",
       "glitch_lp    = True\n",
       "extclk_src   = hs1\n",
       "hs2          = clkgen\n",
       "target_pwr   = True\n",
       "tio_states   = (1, 1, 0, 0)\n",
       "cdc_settings = bytearray(b'\\x00\\x00\\x00\\x00')"
      ]
     },
     "execution_count": 4,
     "metadata": {},
     "output_type": "execute_result"
    }
   ],
   "source": [
    "scope.glitch.output = \"enable_only\"\n",
    "scope.io.glitch_lp = True # both need to be enabled\n",
    "scope.io.glitch_hp = True\n",
    "scope.io"
   ]
  },
  {
   "cell_type": "code",
   "execution_count": 97,
   "id": "af7fad5f-06f5-4375-b1ab-6421548acfac",
   "metadata": {},
   "outputs": [],
   "source": [
    "#scope.glitch.repeat = 1465 # Cycles of 100 MHz\n",
    "#scope.glitch.repeat = 1450 # Cycles of 100 MHz\n",
    "#scope.glitch.repeat = 1516 # Cycles of 100 MHz\n",
    "#scope.glitch.repeat = 1517 # Cycles of 100 MHz\n",
    "#scope.glitch.repeat = 1517.8 # Cycles of 100 MHz\n",
    "#scope.glitch.repeat = 1518 # Cycles of 100 MHz\n",
    "#scope.glitch.repeat = 1400 # Cycles of 100 MHz\n",
    "#scope.glitch.repeat = 1100 # Cycles of 100 MHz\n",
    "#scope.glitch.repeat = 1000 # Cycles of 100 MHz\n",
    "#scope.glitch.repeat = 1050 # Cycles of 100 MHz\n",
    "scope.glitch.repeat = 1025 # Cycles of 100 MHz\n",
    "#scope.glitch.repeat = 1026 # Cycles of 100 MHz\n",
    "#scope.glitch.repeat = 1030 # Cycles of 100 MHz\n",
    "\n",
    "for i in range(100):\n",
    "    scope.glitch.manual_trigger() # This works now, but rather rarely\n",
    "    time.sleep(1)"
   ]
  },
  {
   "cell_type": "code",
   "execution_count": 98,
   "id": "33e41e1c-87fa-4c13-88f2-6eee9c299e9a",
   "metadata": {},
   "outputs": [],
   "source": [
    "# scope.dis()\n",
    "# target.dis()"
   ]
  }
 ],
 "metadata": {
  "kernelspec": {
   "display_name": "Python 3 (ipykernel)",
   "language": "python",
   "name": "python3"
  },
  "language_info": {
   "codemirror_mode": {
    "name": "ipython",
    "version": 3
   },
   "file_extension": ".py",
   "mimetype": "text/x-python",
   "name": "python",
   "nbconvert_exporter": "python",
   "pygments_lexer": "ipython3",
   "version": "3.10.13"
  }
 },
 "nbformat": 4,
 "nbformat_minor": 5
}
